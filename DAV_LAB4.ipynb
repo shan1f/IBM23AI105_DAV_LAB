{
 "cells": [
  {
   "cell_type": "code",
   "execution_count": 5,
   "id": "8333be82",
   "metadata": {},
   "outputs": [
    {
     "name": "stdout",
     "output_type": "stream",
     "text": [
      "   COUNTRY  YEAR    POPULATION        GDP  LIFE\n",
      "0      USA  2020  3.310000e+09    2100000  78.5\n",
      "1      USA  2021  3.320000e+09  215000000  78.7\n",
      "2    CHINA  2020  1.402000e+11  147000000  76.9\n",
      "3    CHINA  2021  1.405000e+11   15500000  77.1\n",
      "4  GERMANY  2020  8.300000e+07   42000000  81.3\n",
      "5  GERMANY  2021  8.310000e+07   40000000  81.5\n",
      "47916016666.666664\n",
      "461600000\n",
      "81.5\n",
      "2100000\n",
      "76933333.33333333\n",
      "65374070261.59573\n",
      "287496100000.0\n",
      "   COUNTRY  YEAR    POPULATION          GDP  LIFE\n",
      "0      USA  2020  3.310000e+09    2310000.0  78.5\n",
      "1      USA  2021  3.320000e+09  236500000.0  78.7\n",
      "2    CHINA  2020  1.402000e+11  161700000.0  76.9\n",
      "3    CHINA  2021  1.405000e+11   17050000.0  77.1\n",
      "4  GERMANY  2020  8.300000e+07   46200000.0  81.3\n",
      "5  GERMANY  2021  8.310000e+07   44000000.0  81.5\n",
      "                POPULATION          GDP  LIFE\n",
      "COUNTRY YEAR                                 \n",
      "USA     2020  3.310000e+09    2310000.0  78.5\n",
      "        2021  3.320000e+09  236500000.0  78.7\n",
      "CHINA   2020  1.402000e+11  161700000.0  76.9\n",
      "        2021  1.405000e+11   17050000.0  77.1\n",
      "GERMANY 2020  8.300000e+07   46200000.0  81.3\n",
      "        2021  8.310000e+07   44000000.0  81.5\n",
      "                POPULATION          GDP  LIFE\n",
      "YEAR COUNTRY                                 \n",
      "2020 CHINA    1.402000e+11  161700000.0  76.9\n",
      "     GERMANY  8.300000e+07   46200000.0  81.3\n",
      "     USA      3.310000e+09    2310000.0  78.5\n",
      "2021 CHINA    1.405000e+11   17050000.0  77.1\n",
      "     GERMANY  8.310000e+07   44000000.0  81.5\n",
      "     USA      3.320000e+09  236500000.0  78.7\n",
      "           POPULATION                        GDP               LIFE      \n",
      "YEAR             2020          2021         2020         2021  2020  2021\n",
      "COUNTRY                                                                  \n",
      "CHINA    1.402000e+11  1.405000e+11  161700000.0   17050000.0  76.9  77.1\n",
      "GERMANY  8.300000e+07  8.310000e+07   46200000.0   44000000.0  81.3  81.5\n",
      "USA      3.310000e+09  3.320000e+09    2310000.0  236500000.0  78.5  78.7\n",
      "YEAR\n",
      "2020    3.310000e+09\n",
      "2021    3.320000e+09\n",
      "Name: POPULATION, dtype: float64\n",
      "YEAR\n",
      "2020    83000000.0\n",
      "2021    83100000.0\n",
      "Name: POPULATION, dtype: float64\n"
     ]
    }
   ],
   "source": [
    "import pandas as pd\n",
    "import numpy as np\n",
    "df = pd.read_csv('DAV DATA.csv')\n",
    "\n",
    "print(df)\n",
    "\n",
    "print(df['POPULATION'].mean())\n",
    "print(df['GDP'].sum())\n",
    "print(df['LIFE'].max())\n",
    "print(df['GDP'].min())\n",
    "print(np.mean(df['GDP']))\n",
    "print(np.std(df['POPULATION']))\n",
    "print(np.sum(df['POPULATION']))\n",
    "\n",
    "df['GDP'] = df['GDP'] * 1.10\n",
    "print(df)\n",
    "\n",
    "df_multi = df.set_index(['COUNTRY', 'YEAR'])\n",
    "print(df_multi)\n",
    "\n",
    "df_swapped = df_multi.swaplevel('COUNTRY', 'YEAR').sort_index()\n",
    "print(df_swapped)\n",
    "\n",
    "df_unstacked = df_multi.unstack(level='YEAR')\n",
    "print(df_unstacked)\n",
    "\n",
    "print(df_multi.loc['USA', 'POPULATION'])\n",
    "print(df_multi.loc['GERMANY', 'POPULATION'])\n"
   ]
  },
  {
   "cell_type": "code",
   "execution_count": null,
   "id": "0fe0f9fa",
   "metadata": {},
   "outputs": [],
   "source": []
  }
 ],
 "metadata": {
  "kernelspec": {
   "display_name": "Python 3 (ipykernel)",
   "language": "python",
   "name": "python3"
  },
  "language_info": {
   "codemirror_mode": {
    "name": "ipython",
    "version": 3
   },
   "file_extension": ".py",
   "mimetype": "text/x-python",
   "name": "python",
   "nbconvert_exporter": "python",
   "pygments_lexer": "ipython3",
   "version": "3.11.3"
  }
 },
 "nbformat": 4,
 "nbformat_minor": 5
}
