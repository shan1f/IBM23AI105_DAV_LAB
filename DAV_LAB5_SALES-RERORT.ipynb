{
 "cells": [
  {
   "cell_type": "code",
   "execution_count": 1,
   "id": "8d42a79e",
   "metadata": {},
   "outputs": [
    {
     "name": "stdout",
     "output_type": "stream",
     "text": [
      "Salesperson  Alice  Bob  Charlie  David\n",
      "Date                                   \n",
      "01-01-2024     200    0        0      0\n",
      "02-01-2024       0  150      700      0\n",
      "03-01-2024     240  240        0      0\n",
      "04-01-2024       0    0        0    300\n",
      "05-01-2024     270    0      300      0\n",
      "Product\n",
      "Widget A    285.0\n",
      "Widget B    252.0\n",
      "Name: Revenue, dtype: float64\n",
      "Salesperson\n",
      "Alice      12\n",
      "Bob         8\n",
      "Charlie    20\n",
      "David      10\n",
      "Name: Units Sold, dtype: int64\n",
      "Region\n",
      "East     21.250000\n",
      "North    24.583333\n",
      "South    41.666667\n",
      "West     12.500000\n",
      "Name: Revenue, dtype: float64\n",
      "Alice\n",
      "             Revenue          Units Sold         \n",
      "Product     Widget A Widget B   Widget A Widget B\n",
      "Salesperson                                      \n",
      "Alice            440      270         22        9\n",
      "Bob                0      390          0       13\n",
      "Charlie          700      300         35       10\n",
      "David              0      300          0       10\n",
      "Region      East  North  South  West\n",
      "Date                                \n",
      "01-01-2024     0     10      0     0\n",
      "02-01-2024     0      5     35     0\n",
      "03-01-2024    12      8      0     0\n",
      "04-01-2024     0      0      0    10\n",
      "05-01-2024     9      0     10     0\n"
     ]
    }
   ],
   "source": [
    "import pandas as pd\n",
    "\n",
    "df = pd.read_csv('lab5.csv')\n",
    "\n",
    "pivot_revenue_date = df.pivot_table(values='Revenue', index='Date', columns='Salesperson', aggfunc='sum', fill_value=0)\n",
    "print(pivot_revenue_date)\n",
    "\n",
    "avg_revenue_product = df.groupby('Product')['Revenue'].mean()\n",
    "print(avg_revenue_product)\n",
    "\n",
    "max_units_salesperson = df.groupby('Salesperson')['Units Sold'].max()\n",
    "print(max_units_salesperson)\n",
    "\n",
    "total_revenue = df['Revenue'].sum()\n",
    "region_revenue_pct = df.groupby('Region')['Revenue'].sum() / total_revenue * 100\n",
    "print(region_revenue_pct)\n",
    "\n",
    "transactions_count = df.groupby('Salesperson').size()\n",
    "most_transactions = transactions_count.idxmax()\n",
    "print(most_transactions)\n",
    "\n",
    "pivot_sales_product = df.pivot_table(values=['Revenue','Units Sold'], index='Salesperson', columns='Product', aggfunc='sum', fill_value=0)\n",
    "print(pivot_sales_product)\n",
    "\n",
    "pivot_units_region = df.pivot_table(values='Units Sold', index='Date', columns='Region', aggfunc='sum', fill_value=0)\n",
    "print(pivot_units_region)\n"
   ]
  },
  {
   "cell_type": "code",
   "execution_count": null,
   "id": "797428c1",
   "metadata": {},
   "outputs": [],
   "source": []
  }
 ],
 "metadata": {
  "kernelspec": {
   "display_name": "Python 3 (ipykernel)",
   "language": "python",
   "name": "python3"
  },
  "language_info": {
   "codemirror_mode": {
    "name": "ipython",
    "version": 3
   },
   "file_extension": ".py",
   "mimetype": "text/x-python",
   "name": "python",
   "nbconvert_exporter": "python",
   "pygments_lexer": "ipython3",
   "version": "3.11.3"
  }
 },
 "nbformat": 4,
 "nbformat_minor": 5
}
